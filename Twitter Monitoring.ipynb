{
 "cells": [
  {
   "cell_type": "markdown",
   "metadata": {},
   "source": [
    "First thing we need to do is read in our credentials for the twitter API from a separate document"
   ]
  },
  {
   "cell_type": "code",
   "execution_count": 1,
   "metadata": {
    "collapsed": true
   },
   "outputs": [],
   "source": [
    "with open(\"Credentials.txt\", \"r\") as f:\n",
    "    content = f.readlines()\n",
    "content = [x.strip(\"\\n\") for x in content]"
   ]
  },
  {
   "cell_type": "markdown",
   "metadata": {},
   "source": [
    "Now we can log into the twitter API. We also set a notification for python to stop if it hits the rate limit and wait until the 15 min time period has passed until we resume. This is helpful so we don't get blacklisted"
   ]
  },
  {
   "cell_type": "code",
   "execution_count": 3,
   "metadata": {
    "collapsed": true
   },
   "outputs": [],
   "source": [
    "import tweepy\n",
    "from tweepy import OAuthHandler\n",
    " \n",
    "consumer_key = '{}'.format(content[2])\n",
    "consumer_secret = '{}'.format(content[3])\n",
    "access_token = '{}'.format(content[4])\n",
    "access_secret = '{}'.format(content[5])\n",
    " \n",
    "auth = OAuthHandler(consumer_key, consumer_secret)\n",
    "auth.set_access_token(access_token, access_secret)\n",
    " \n",
    "api = tweepy.API(auth, wait_on_rate_limit=True, wait_on_rate_limit_notify=True)"
   ]
  },
  {
   "cell_type": "code",
   "execution_count": 4,
   "metadata": {
    "collapsed": false
   },
   "outputs": [
    {
     "name": "stdout",
     "output_type": "stream",
     "text": [
      "PCI SSC has introduced new software security standards as part of a new PCI Software #Security Framework:\n",
      "\n",
      "→ PCI Se… https://t.co/NDAGHps7RS\n",
      "It may be snowy and cold out, but we’ve got the Barrel Aged beers to warm you up! 6 of the barrel aged beauties fro… https://t.co/sPXkyvtiyY\n",
      "RT @AmeliaMN: Introducing the Tidyverse Developer Day, @hadleywickham says the goal is for us to mostly be \"typing R code.\" https://t.co/TY…\n",
      "It’s Bulls vs. Heat tonight and we are partnering with @BMOHarrisBank for Pride Night! Can’t make it to the game? R… https://t.co/6uKxf4JdqH\n",
      "ICYMI: A default #Cisco configuration allows full admin access to unauthenticated attackers. \n",
      "\n",
      "https://t.co/RSVliUMgwf\n"
     ]
    }
   ],
   "source": [
    "#simple example to make sure we are in and everything is working ok\n",
    "for status in tweepy.Cursor(api.home_timeline).items(5):\n",
    "    print(status.text)"
   ]
  },
  {
   "cell_type": "markdown",
   "metadata": {},
   "source": [
    "Now there are two approaches to monitoring twitter. Approach one simply looks for a keyword, username, hashtag, etc. over the last 7 day period and returns the number of results you asked for. Keep in mind the rate limit. Also this method of searching is not full proof. i.e. it can miss some results occassionally as noted in the documentation. Below I just show an example of searching for a keyword"
   ]
  },
  {
   "cell_type": "code",
   "execution_count": 5,
   "metadata": {
    "collapsed": false
   },
   "outputs": [
    {
     "name": "stdout",
     "output_type": "stream",
     "text": [
      "Tweeted by  _LHSAthletics\n",
      "Created at  2019-01-19 17:56:27\n",
      "Location:  Twitter Web Client\n",
      "Tweet Text: RT  2019 Boys Basketball Video Recap: Lowell 76, Central Catholic 68 https://t.co/65uMUYHOUH - Great work by @ConveyWEEI @lowellhighbball @kingjv19 @_LHSAthletics https://t.co/XQSpiToMf7\n",
      "Tweeted by  DanimalJakes\n",
      "Created at  2019-01-19 17:56:24\n",
      "Location:  Twitter for iPhone\n",
      "Tweet Text:  With an hour before tip, read up on one of today’s biggest games! https://t.co/hFeoTLd8D6\n",
      "Tweeted by  CGTrojanHoops\n",
      "Created at  2019-01-19 17:56:23\n",
      "Location:  Twitter for iPhone\n",
      "Tweet Text: RT  Yeah, they’re pretty good:\n",
      "\n",
      "https://t.co/vRgxgYKZxL https://t.co/mVCqBY4oRj\n",
      "Tweeted by  thequeenbro\n",
      "Created at  2019-01-19 17:56:23\n",
      "Location:  Twitter for iPhone\n",
      "Tweet Text: RT  You have on a football jersey on the basketball court for what reason exactly? https://t.co/ehq3k0dvzu\n",
      "Tweeted by  lsp37\n",
      "Created at  2019-01-19 17:56:23\n",
      "Location:  TweetDeck\n",
      "Tweet Text:  LIVE NOW: @UCAP_Pointers @ @MassBayBucs @njcaa men's #basketball @MassBayBucc @FramSource @BGlobeSports @BosHeraldSports @NJCAATV https://t.co/95B8USdxut https://t.co/YbDGpi3h2j\n"
     ]
    }
   ],
   "source": [
    "term ='basketball' #search for specific words\n",
    "num_tweets = 5\n",
    "messages = []\n",
    "\n",
    "#tweet mode extended is necessary to return the entire text if tweet is over 140 chars\n",
    "for tweet in tweepy.Cursor(api.search, q=term, tweet_mode=\"extended\").items(num_tweets):\n",
    "    # Process a single status\n",
    "    #print(\"Tweet ID:\", tweet.id)\n",
    "    if \"retweeted_status\" in tweet._json:\n",
    "        print('Tweeted by ', tweet.user.screen_name)\n",
    "        print(\"Created at \",tweet.created_at)\n",
    "        print(\"Location: \",tweet.source)\n",
    "        print('Tweet Text: RT ', tweet._json[\"retweeted_status\"][\"full_text\"])\n",
    "        messages.append(tweet._json[\"retweeted_status\"][\"full_text\"])\n",
    "    else:\n",
    "        print('Tweeted by ', tweet.user.screen_name)\n",
    "        print(\"Created at \",tweet.created_at)\n",
    "        print(\"Location: \",tweet.source)\n",
    "        print('Tweet Text: ', tweet.full_text)\n",
    "        messages.append(tweet.full_text)     "
   ]
  },
  {
   "cell_type": "markdown",
   "metadata": {},
   "source": [
    "Now the second approach is for monitoring realtime. Similar to above we can search for multiple criteria but the example below will just show searching on keywords for an example and then writing to a txt file."
   ]
  },
  {
   "cell_type": "code",
   "execution_count": 6,
   "metadata": {
    "collapsed": true
   },
   "outputs": [],
   "source": [
    "import csv\n",
    "ex = []\n",
    "#set up live stream on twitter\n",
    "class MyStreamListener(tweepy.StreamListener):\n",
    "\n",
    "    def __init__(self, api=None):\n",
    "        super(MyStreamListener, self).__init__()\n",
    "        self.num_tweets = 0\n",
    "\n",
    "    def on_status(self, status):\n",
    "        self.num_tweets += 1\n",
    "        try:\n",
    "            print(status._json[\"retweeted_status\"][\"extended_tweet\"][\"full_text\"])\n",
    "        except KeyError:\n",
    "            try:\n",
    "                print(status._json[\"extended_tweet\"][\"full_text\"])\n",
    "            except KeyError:\n",
    "                try: \n",
    "                    print(status._json[\"retweeted_status\"][\"full_text\"])\n",
    "                except KeyError:\n",
    "                    print(status._json[\"text\"])\n",
    "        #write the data to a file for future analysis\n",
    "        with open('LiveStreamResults.txt', 'a', encoding = \"utf8\") as f: #append each row of data to txt file\n",
    "            writer = csv.writer(f)\n",
    "            try:\n",
    "                writer.writerow([status.author.screen_name, status.created_at, status._json[\"retweeted_status\"][\"extended_tweet\"][\"full_text\"]])\n",
    "            except KeyError:\n",
    "                try:\n",
    "                    writer.writerow([status.author.screen_name, status.created_at, status._json[\"extended_tweet\"][\"full_text\"]])\n",
    "                except KeyError:\n",
    "                    try:\n",
    "                        writer.writerow([status.author.screen_name, status.created_at, status._json[\"retweeted_status\"][\"text\"]])\n",
    "                    except KeyError:\n",
    "                        writer.writerow([status.author.screen_name, status.created_at, status.text])\n",
    "        if self.num_tweets > 2:\n",
    "            return False\n",
    "    #break the code if we hit a rate limit\n",
    "    def on_error(self, status_code):\n",
    "        if status_code == 420:\n",
    "            #returning False in on_data disconnects the stream\n",
    "            return False\n",
    "\n",
    "myStreamListener = MyStreamListener()\n",
    "myStream = tweepy.Stream(auth = api.auth, listener=myStreamListener, tweet_mode=\"extended\")"
   ]
  },
  {
   "cell_type": "code",
   "execution_count": 7,
   "metadata": {
    "collapsed": false
   },
   "outputs": [
    {
     "name": "stdout",
     "output_type": "stream",
     "text": [
      "RT @SoChasAthletics: Girls Basketball: SC 52 Capital 37 - FINAL #wvgirlsbb\n",
      "Thank you to the Houston Marathon Foundation for sponsoring our 5k run! The kids did awesome!\n",
      "My basketball girls ran with me, and we maintained a 9:01 pace in the wind. They motivated each other the ENTIRE way.ready for the Aramco Half Marathon tomorrow! #wearehouston5k #manvel https://t.co/wboJuuthvs\n",
      "@2020fight And this &gt; Covington Catholic basketball star (18) charged with raping and sodomizing his girlfriend last month. \n",
      "https://t.co/Rcv01BPScU\n"
     ]
    }
   ],
   "source": [
    "keywords = [\"basketball\"]\n",
    "myStream.filter(track=keywords)"
   ]
  }
 ],
 "metadata": {
  "anaconda-cloud": {},
  "kernelspec": {
   "display_name": "Python [default]",
   "language": "python",
   "name": "python3"
  },
  "language_info": {
   "codemirror_mode": {
    "name": "ipython",
    "version": 3
   },
   "file_extension": ".py",
   "mimetype": "text/x-python",
   "name": "python",
   "nbconvert_exporter": "python",
   "pygments_lexer": "ipython3",
   "version": "3.5.2"
  }
 },
 "nbformat": 4,
 "nbformat_minor": 2
}
